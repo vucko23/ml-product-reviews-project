{
  "nbformat": 4,
  "nbformat_minor": 0,
  "metadata": {
    "colab": {
      "provenance": [],
      "authorship_tag": "ABX9TyPsdijm6pql3oQbIIIsQ+w0",
      "include_colab_link": true
    },
    "kernelspec": {
      "name": "python3",
      "display_name": "Python 3"
    },
    "language_info": {
      "name": "python"
    }
  },
  "cells": [
    {
      "cell_type": "markdown",
      "metadata": {
        "id": "view-in-github",
        "colab_type": "text"
      },
      "source": [
        "<a href=\"https://colab.research.google.com/github/vucko23/ml-product-reviews-project/blob/main/notebook/product_reviews_analysis.ipynb\" target=\"_parent\"><img src=\"https://colab.research.google.com/assets/colab-badge.svg\" alt=\"Open In Colab\"/></a>"
      ]
    },
    {
      "cell_type": "code",
      "execution_count": 1,
      "metadata": {
        "colab": {
          "base_uri": "https://localhost:8080/"
        },
        "id": "NGJA8LzolVFZ",
        "outputId": "6cbe8108-6139-40ca-87f5-a47d2162a012"
      },
      "outputs": [
        {
          "output_type": "stream",
          "name": "stdout",
          "text": [
            "Number of rows: 171380\n",
            "First 5 rows:\n",
            "                            review_uuid  \\\n",
            "0  31b07b9a-4567-4db1-81f6-1bcef33b3e7b   \n",
            "1  1cb2b4b5-9805-4c2d-9393-6b1382cb7c53   \n",
            "2  f64165f0-29a2-4cfb-8b15-13c0c893e54d   \n",
            "3  e442e083-a343-4052-b015-41e531e52d3e   \n",
            "4  f4abefb8-22f0-4672-af73-2aa2954b24e0   \n",
            "\n",
            "                                        product_name product_price  \\\n",
            "0  Candes 12 L Room/Personal Air Cooler??????(Whi...         48.18   \n",
            "1  Candes 12 L Room/Personal Air Cooler??????(Whi...         48.18   \n",
            "2  Candes 12 L Room/Personal Air Cooler??????(Whi...         48.18   \n",
            "3  Candes 12 L Room/Personal Air Cooler??????(Whi...         48.18   \n",
            "4  Candes 12 L Room/Personal Air Cooler??????(Whi...         48.18   \n",
            "\n",
            "      review_title                                        review_text  \\\n",
            "0           Super!  great cooler excellent air flow and for this p...   \n",
            "1          Awesome              best budget 2 fit cooler nice cooling   \n",
            "2             Fair  the quality is good but the power of air is de...   \n",
            "3  Useless product                  very bad product its a only a fan   \n",
            "4             Fair                                      ok ok product   \n",
            "\n",
            "  sentiment  \n",
            "0  positive  \n",
            "1  positive  \n",
            "2  positive  \n",
            "3  negative  \n",
            "4   Neutral  \n"
          ]
        }
      ],
      "source": [
        "import pandas as pd\n",
        "\n",
        "# load dataset from GitHub\n",
        "url = \"https://raw.githubusercontent.com/vucko23/ml-product-reviews-project/main/data/product_reviews_full.csv\"\n",
        "df = pd.read_csv(url)\n",
        "\n",
        "print(\"Number of rows:\", len(df))\n",
        "print(\"First 5 rows:\")\n",
        "print(df.head())"
      ]
    }
  ]
}